{
  "nbformat": 4,
  "nbformat_minor": 0,
  "metadata": {
    "colab": {
      "provenance": []
    },
    "kernelspec": {
      "name": "python3",
      "display_name": "Python 3"
    },
    "language_info": {
      "name": "python"
    },
    "accelerator": "GPU",
    "gpuClass": "standard"
  },
  "cells": [
    {
      "cell_type": "code",
      "execution_count": 8,
      "metadata": {
        "id": "YnR1CTvBD1cW"
      },
      "outputs": [],
      "source": [
        "import tensorflow as tf\n",
        "from tensorflow.keras import datasets, layers, models\n",
        "import matplotlib.pyplot as plt\n",
        "import numpy as np"
      ]
    },
    {
      "cell_type": "code",
      "source": [
        "(X_train, y_train), (X_test,y_test) = datasets.cifar10.load_data()\n",
        "X_train.shape"
      ],
      "metadata": {
        "colab": {
          "base_uri": "https://localhost:8080/"
        },
        "id": "r5h705-4RtHW",
        "outputId": "bf9a1401-d361-462a-e54f-2693beacc510"
      },
      "execution_count": 9,
      "outputs": [
        {
          "output_type": "stream",
          "name": "stdout",
          "text": [
            "Downloading data from https://www.cs.toronto.edu/~kriz/cifar-10-python.tar.gz\n",
            "170498071/170498071 [==============================] - 14s 0us/step\n"
          ]
        },
        {
          "output_type": "execute_result",
          "data": {
            "text/plain": [
              "(50000, 32, 32, 3)"
            ]
          },
          "metadata": {},
          "execution_count": 9
        }
      ]
    },
    {
      "cell_type": "code",
      "source": [
        "X_test.shape"
      ],
      "metadata": {
        "colab": {
          "base_uri": "https://localhost:8080/"
        },
        "id": "LERlT_avS_ux",
        "outputId": "b3ea9912-1aa7-48dd-991d-f3e80e387785"
      },
      "execution_count": 10,
      "outputs": [
        {
          "output_type": "execute_result",
          "data": {
            "text/plain": [
              "(10000, 32, 32, 3)"
            ]
          },
          "metadata": {},
          "execution_count": 10
        }
      ]
    },
    {
      "cell_type": "code",
      "source": [
        "y_train.shape"
      ],
      "metadata": {
        "id": "CKLPXVAjTEu6",
        "colab": {
          "base_uri": "https://localhost:8080/"
        },
        "outputId": "812b0196-bb10-4681-e00a-942b8aa3794b"
      },
      "execution_count": 11,
      "outputs": [
        {
          "output_type": "execute_result",
          "data": {
            "text/plain": [
              "(50000, 1)"
            ]
          },
          "metadata": {},
          "execution_count": 11
        }
      ]
    },
    {
      "cell_type": "code",
      "source": [
        "y_train[:5]"
      ],
      "metadata": {
        "id": "ppzMc8PgTFd6",
        "colab": {
          "base_uri": "https://localhost:8080/"
        },
        "outputId": "d85cec94-7c03-498d-e177-a354d1738a48"
      },
      "execution_count": 13,
      "outputs": [
        {
          "output_type": "execute_result",
          "data": {
            "text/plain": [
              "array([[6],\n",
              "       [9],\n",
              "       [9],\n",
              "       [4],\n",
              "       [1]], dtype=uint8)"
            ]
          },
          "metadata": {},
          "execution_count": 13
        }
      ]
    },
    {
      "cell_type": "code",
      "source": [
        "y_train = y_train.reshape(-1,)\n",
        "y_train[:5]"
      ],
      "metadata": {
        "colab": {
          "base_uri": "https://localhost:8080/"
        },
        "id": "JZH29YT_VCpJ",
        "outputId": "da08575c-2790-497a-f47a-2ae7567ab0f1"
      },
      "execution_count": 14,
      "outputs": [
        {
          "output_type": "execute_result",
          "data": {
            "text/plain": [
              "array([6, 9, 9, 4, 1], dtype=uint8)"
            ]
          },
          "metadata": {},
          "execution_count": 14
        }
      ]
    },
    {
      "cell_type": "code",
      "source": [
        "y_test = y_test.reshape(-1,)"
      ],
      "metadata": {
        "id": "nj99fExOVDOR"
      },
      "execution_count": 15,
      "outputs": []
    },
    {
      "cell_type": "code",
      "source": [
        "classes = [\"airplane\",\"automobile\",\"bird\",\"cat\",\"deer\",\"dog\",\"frog\",\"horse\",\"ship\",\"truck\"]"
      ],
      "metadata": {
        "id": "9fH3lL1ZVFDr"
      },
      "execution_count": 16,
      "outputs": []
    },
    {
      "cell_type": "code",
      "source": [
        "def plot_sample(X, y, index):\n",
        "    plt.figure(figsize = (30,4))\n",
        "    plt.imshow(X[index])\n",
        "    plt.xlabel(classes[y[index]])"
      ],
      "metadata": {
        "id": "bZZ8nxNQVHa7"
      },
      "execution_count": 21,
      "outputs": []
    },
    {
      "cell_type": "code",
      "source": [
        "plot_sample(X_train, y_train, 0)"
      ],
      "metadata": {
        "colab": {
          "base_uri": "https://localhost:8080/",
          "height": 280
        },
        "id": "H2BTGV4cVJMm",
        "outputId": "254a2070-d221-451e-8d3d-47b36f8f0729"
      },
      "execution_count": 22,
      "outputs": [
        {
          "output_type": "display_data",
          "data": {
            "text/plain": [
              "<Figure size 2160x288 with 1 Axes>"
            ],
            "image/png": "[encoded data removed]"
          },
          "metadata": {
            "needs_background": "light"
          }
        }
      ]
    },
    {
      "cell_type": "code",
      "source": [
        "plot_sample(X_train, y_train, 1)"
      ],
      "metadata": {
        "colab": {
          "base_uri": "https://localhost:8080/",
          "height": 280
        },
        "id": "GPQqBvdMVLtB",
        "outputId": "5872b9f6-3448-4757-fe49-cacebcc68cb8"
      },
      "execution_count": 24,
      "outputs": [
        {
          "output_type": "display_data",
          "data": {
            "text/plain": [
              "<Figure size 2160x288 with 1 Axes>"
            ],
            "image/png": "[encoded data removed]"
          },
          "metadata": {
            "needs_background": "light"
          }
        }
      ]
    },
    {
      "cell_type": "code",
      "source": [
        "X_train = X_train / 255.0\n",
        "X_test = X_test / 255.0"
      ],
      "metadata": {
        "id": "1O8DNbYxVUHQ"
      },
      "execution_count": 25,
      "outputs": []
    },
    {
      "cell_type": "code",
      "source": [
        "ann = models.Sequential([\n",
        "        layers.Flatten(input_shape=(32,32,3)),\n",
        "        layers.Dense(3000, activation='relu'),\n",
        "        layers.Dense(1000, activation='relu'),\n",
        "        layers.Dense(10, activation='softmax')    \n",
        "    ])\n",
        "\n",
        "ann.compile(optimizer='SGD',\n",
        "              loss='sparse_categorical_crossentropy',\n",
        "              metrics=['accuracy'])\n",
        "\n",
        "ann.fit(X_train, y_train, epochs=20)"
      ],
      "metadata": {
        "colab": {
          "base_uri": "https://localhost:8080/"
        },
        "id": "OSjQ55pZVUcW",
        "outputId": "45038f15-dd25-4710-b279-25458d95f03e"
      },
      "execution_count": 26,
      "outputs": [
        {
          "output_type": "stream",
          "name": "stdout",
          "text": [
            "Epoch 1/20\n",
            "1563/1563 [==============================] - 9s 4ms/step - loss: 1.8111 - accuracy: 0.3537\n",
            "Epoch 2/20\n",
            "1563/1563 [==============================] - 6s 4ms/step - loss: 1.6192 - accuracy: 0.4278\n",
            "Epoch 3/20\n",
            "1563/1563 [==============================] - 6s 4ms/step - loss: 1.5372 - accuracy: 0.4563\n",
            "Epoch 4/20\n",
            "1563/1563 [==============================] - 6s 4ms/step - loss: 1.4792 - accuracy: 0.4777\n",
            "Epoch 5/20\n",
            "1563/1563 [==============================] - 6s 4ms/step - loss: 1.4291 - accuracy: 0.4973\n",
            "Epoch 6/20\n",
            "1563/1563 [==============================] - 6s 4ms/step - loss: 1.3869 - accuracy: 0.5123\n",
            "Epoch 7/20\n",
            "1563/1563 [==============================] - 6s 4ms/step - loss: 1.3476 - accuracy: 0.5242\n",
            "Epoch 8/20\n",
            "1563/1563 [==============================] - 6s 4ms/step - loss: 1.3134 - accuracy: 0.5395\n",
            "Epoch 9/20\n",
            "1563/1563 [==============================] - 6s 4ms/step - loss: 1.2816 - accuracy: 0.5483\n",
            "Epoch 10/20\n",
            "1563/1563 [==============================] - 6s 4ms/step - loss: 1.2490 - accuracy: 0.5623\n",
            "Epoch 11/20\n",
            "1563/1563 [==============================] - 7s 4ms/step - loss: 1.2173 - accuracy: 0.5737\n",
            "Epoch 12/20\n",
            "1563/1563 [==============================] - 6s 4ms/step - loss: 1.1905 - accuracy: 0.5837\n",
            "Epoch 13/20\n",
            "1563/1563 [==============================] - 6s 4ms/step - loss: 1.1619 - accuracy: 0.5948\n",
            "Epoch 14/20\n",
            "1563/1563 [==============================] - 7s 4ms/step - loss: 1.1359 - accuracy: 0.6026\n",
            "Epoch 15/20\n",
            "1563/1563 [==============================] - 6s 4ms/step - loss: 1.1079 - accuracy: 0.6133\n",
            "Epoch 16/20\n",
            "1563/1563 [==============================] - 6s 4ms/step - loss: 1.0816 - accuracy: 0.6222\n",
            "Epoch 17/20\n",
            "1563/1563 [==============================] - 6s 4ms/step - loss: 1.0556 - accuracy: 0.6327\n",
            "Epoch 18/20\n",
            "1563/1563 [==============================] - 6s 4ms/step - loss: 1.0307 - accuracy: 0.6437\n",
            "Epoch 19/20\n",
            "1563/1563 [==============================] - 6s 4ms/step - loss: 1.0053 - accuracy: 0.6510\n",
            "Epoch 20/20\n",
            "1563/1563 [==============================] - 6s 4ms/step - loss: 0.9781 - accuracy: 0.6601\n"
          ]
        },
        {
          "output_type": "execute_result",
          "data": {
            "text/plain": [
              "<keras.callbacks.History at 0x7f0b0618bac0>"
            ]
          },
          "metadata": {},
          "execution_count": 26
        }
      ]
    },
    {
      "cell_type": "code",
      "source": [
        "from sklearn.metrics import confusion_matrix , classification_report\n",
        "import numpy as np\n",
        "y_pred = ann.predict(X_test)\n",
        "y_pred_classes = [np.argmax(element) for element in y_pred]\n",
        "\n",
        "print(\"Classification Report: \\n\", classification_report(y_test, y_pred_classes))"
      ],
      "metadata": {
        "colab": {
          "base_uri": "https://localhost:8080/"
        },
        "id": "Dx8lkmBFVZeX",
        "outputId": "9c25f60e-4781-4ae2-f5d6-762f5b4f2931"
      },
      "execution_count": 28,
      "outputs": [
        {
          "output_type": "stream",
          "name": "stdout",
          "text": [
            "313/313 [==============================] - 1s 4ms/step\n",
            "Classification Report: \n",
            "               precision    recall  f1-score   support\n",
            "\n",
            "           0       0.63      0.50      0.56      1000\n",
            "           1       0.73      0.60      0.66      1000\n",
            "           2       0.31      0.60      0.41      1000\n",
            "           3       0.43      0.24      0.31      1000\n",
            "           4       0.32      0.66      0.43      1000\n",
            "           5       0.66      0.19      0.30      1000\n",
            "           6       0.69      0.45      0.55      1000\n",
            "           7       0.69      0.48      0.57      1000\n",
            "           8       0.55      0.77      0.64      1000\n",
            "           9       0.67      0.52      0.58      1000\n",
            "\n",
            "    accuracy                           0.50     10000\n",
            "   macro avg       0.57      0.50      0.50     10000\n",
            "weighted avg       0.57      0.50      0.50     10000\n",
            "\n"
          ]
        }
      ]
    },
    {
      "cell_type": "code",
      "source": [
        "cnn = models.Sequential([\n",
        "    layers.Conv2D(filters=32, kernel_size=(3, 3), activation='relu', input_shape=(32, 32, 3)),\n",
        "    layers.MaxPooling2D((2, 2)),\n",
        "    \n",
        "    layers.Conv2D(filters=64, kernel_size=(3, 3), activation='relu'),\n",
        "    layers.MaxPooling2D((2, 2)),\n",
        "    \n",
        "    layers.Flatten(),\n",
        "    layers.Dense(64, activation='relu'),\n",
        "    layers.Dense(10, activation='softmax')\n",
        "])"
      ],
      "metadata": {
        "id": "s-sLq3IVV-43"
      },
      "execution_count": 30,
      "outputs": []
    },
    {
      "cell_type": "code",
      "source": [
        "cnn.compile(optimizer='adam',\n",
        "              loss='sparse_categorical_crossentropy',\n",
        "              metrics=['accuracy'])"
      ],
      "metadata": {
        "id": "ZkK3_ohdWFyY"
      },
      "execution_count": 31,
      "outputs": []
    },
    {
      "cell_type": "code",
      "source": [
        "cnn.fit(X_train, y_train, epochs=10)"
      ],
      "metadata": {
        "colab": {
          "base_uri": "https://localhost:8080/"
        },
        "id": "GFhBnoQpWGFq",
        "outputId": "6b39f1d2-f3ac-4413-8e28-479caa29231e"
      },
      "execution_count": 32,
      "outputs": [
        {
          "output_type": "stream",
          "name": "stdout",
          "text": [
            "Epoch 1/10\n",
            "1563/1563 [==============================] - 13s 4ms/step - loss: 1.4065 - accuracy: 0.4994\n",
            "Epoch 2/10\n",
            "1563/1563 [==============================] - 6s 4ms/step - loss: 1.0638 - accuracy: 0.6301\n",
            "Epoch 3/10\n",
            "1563/1563 [==============================] - 6s 4ms/step - loss: 0.9385 - accuracy: 0.6750\n",
            "Epoch 4/10\n",
            "1563/1563 [==============================] - 6s 4ms/step - loss: 0.8526 - accuracy: 0.7055\n",
            "Epoch 5/10\n",
            "1563/1563 [==============================] - 6s 4ms/step - loss: 0.7843 - accuracy: 0.7287\n",
            "Epoch 6/10\n",
            "1563/1563 [==============================] - 7s 5ms/step - loss: 0.7240 - accuracy: 0.7483\n",
            "Epoch 7/10\n",
            "1563/1563 [==============================] - 6s 4ms/step - loss: 0.6707 - accuracy: 0.7660\n",
            "Epoch 8/10\n",
            "1563/1563 [==============================] - 6s 4ms/step - loss: 0.6195 - accuracy: 0.7837\n",
            "Epoch 9/10\n",
            "1563/1563 [==============================] - 6s 4ms/step - loss: 0.5764 - accuracy: 0.7966\n",
            "Epoch 10/10\n",
            "1563/1563 [==============================] - 6s 4ms/step - loss: 0.5353 - accuracy: 0.8124\n"
          ]
        },
        {
          "output_type": "execute_result",
          "data": {
            "text/plain": [
              "<keras.callbacks.History at 0x7f0a919e1c10>"
            ]
          },
          "metadata": {},
          "execution_count": 32
        }
      ]
    },
    {
      "cell_type": "code",
      "source": [
        "cnn.evaluate(X_test,y_test)"
      ],
      "metadata": {
        "colab": {
          "base_uri": "https://localhost:8080/"
        },
        "id": "Vgy5syVCWHm2",
        "outputId": "40070e5d-2c0f-466a-dab8-f180a11868ea"
      },
      "execution_count": 34,
      "outputs": [
        {
          "output_type": "stream",
          "name": "stdout",
          "text": [
            "313/313 [==============================] - 1s 4ms/step - loss: 0.9394 - accuracy: 0.7033\n"
          ]
        },
        {
          "output_type": "execute_result",
          "data": {
            "text/plain": [
              "[0.9393946528434753, 0.7032999992370605]"
            ]
          },
          "metadata": {},
          "execution_count": 34
        }
      ]
    },
    {
      "cell_type": "code",
      "source": [
        "y_pred = cnn.predict(X_test)\n",
        "y_pred[:5]"
      ],
      "metadata": {
        "colab": {
          "base_uri": "https://localhost:8080/"
        },
        "id": "2Wnu5UhxWfib",
        "outputId": "e32c87f1-0a86-4fd5-a2ac-3a010ed529c3"
      },
      "execution_count": 35,
      "outputs": [
        {
          "output_type": "stream",
          "name": "stdout",
          "text": [
            "313/313 [==============================] - 1s 2ms/step\n"
          ]
        },
        {
          "output_type": "execute_result",
          "data": {
            "text/plain": [
              "array([[1.0924444e-02, 3.9383673e-04, 2.0267526e-03, 8.3349288e-01,\n",
              "        1.3431996e-03, 1.2463726e-01, 1.7143006e-02, 3.0507415e-04,\n",
              "        9.4578657e-03, 2.7567014e-04],\n",
              "       [5.8780514e-02, 8.6731330e-02, 2.8402014e-06, 3.8258378e-07,\n",
              "        2.4763096e-07, 5.3026206e-09, 9.6234709e-10, 7.6921101e-09,\n",
              "        8.5443580e-01, 4.8879436e-05],\n",
              "       [2.7507648e-01, 2.1880122e-01, 2.5088761e-02, 2.2004493e-02,\n",
              "        6.2863710e-03, 1.9264249e-04, 1.6430125e-03, 7.6960784e-04,\n",
              "        2.7669063e-01, 1.7344679e-01],\n",
              "       [9.6613806e-01, 1.5837267e-02, 3.4003097e-03, 1.9016804e-03,\n",
              "        2.5259992e-04, 4.4101895e-07, 9.7171778e-06, 2.2877198e-06,\n",
              "        1.2212705e-02, 2.4499011e-04],\n",
              "       [1.0422440e-08, 1.9281940e-08, 1.1615476e-03, 6.0690101e-03,\n",
              "        9.7687066e-01, 2.3016437e-05, 1.5875580e-02, 5.0893473e-08,\n",
              "        3.5371688e-08, 1.4431537e-08]], dtype=float32)"
            ]
          },
          "metadata": {},
          "execution_count": 35
        }
      ]
    },
    {
      "cell_type": "code",
      "source": [
        "y_classes = [np.argmax(element) for element in y_pred]\n",
        "y_classes[:5]"
      ],
      "metadata": {
        "colab": {
          "base_uri": "https://localhost:8080/"
        },
        "id": "JJVbdLytWf0V",
        "outputId": "be532e26-31b3-43e0-d386-23a2efd984d3"
      },
      "execution_count": 36,
      "outputs": [
        {
          "output_type": "execute_result",
          "data": {
            "text/plain": [
              "[3, 8, 8, 0, 4]"
            ]
          },
          "metadata": {},
          "execution_count": 36
        }
      ]
    },
    {
      "cell_type": "code",
      "source": [
        "y_test[:10]"
      ],
      "metadata": {
        "colab": {
          "base_uri": "https://localhost:8080/"
        },
        "id": "dAgk_wg0Wh43",
        "outputId": "f3518746-a2cb-4466-983a-17064b86e24a"
      },
      "execution_count": 37,
      "outputs": [
        {
          "output_type": "execute_result",
          "data": {
            "text/plain": [
              "array([3, 8, 8, 0, 6, 6, 1, 6, 3, 1], dtype=uint8)"
            ]
          },
          "metadata": {},
          "execution_count": 37
        }
      ]
    },
    {
      "cell_type": "code",
      "source": [
        "plot_sample(X_test, y_test,5)"
      ],
      "metadata": {
        "colab": {
          "base_uri": "https://localhost:8080/",
          "height": 280
        },
        "id": "kOLSO9U1Wj_D",
        "outputId": "96ebe870-4dba-44d0-9f38-348663b1946c"
      },
      "execution_count": 38,
      "outputs": [
        {
          "output_type": "display_data",
          "data": {
            "text/plain": [
              "<Figure size 2160x288 with 1 Axes>"
            ],
            "image/png": "[encoded data removed]"
          },
          "metadata": {
            "needs_background": "light"
          }
        }
      ]
    },
    {
      "cell_type": "code",
      "source": [
        "plot_sample(X_test, y_test,2)"
      ],
      "metadata": {
        "colab": {
          "base_uri": "https://localhost:8080/",
          "height": 280
        },
        "id": "Mkw60KgmWoIZ",
        "outputId": "9b44dcc5-34a1-4fc7-9335-1820d80a5717"
      },
      "execution_count": 39,
      "outputs": [
        {
          "output_type": "display_data",
          "data": {
            "text/plain": [
              "<Figure size 2160x288 with 1 Axes>"
            ],
            "image/png": "[encoded data removed]"
          },
          "metadata": {
            "needs_background": "light"
          }
        }
      ]
    },
    {
      "cell_type": "code",
      "source": [
        "classes[y_classes[2]]"
      ],
      "metadata": {
        "colab": {
          "base_uri": "https://localhost:8080/",
          "height": 35
        },
        "id": "ymadqsCyWqbr",
        "outputId": "0c37fa12-09ba-423d-c6d7-cd0460ee7e6a"
      },
      "execution_count": 40,
      "outputs": [
        {
          "output_type": "execute_result",
          "data": {
            "text/plain": [
              "'ship'"
            ],
            "application/vnd.google.colaboratory.intrinsic+json": {
              "type": "string"
            }
          },
          "metadata": {},
          "execution_count": 40
        }
      ]
    },
    {
      "cell_type": "code",
      "source": [
        "classes[y_classes[5]]"
      ],
      "metadata": {
        "colab": {
          "base_uri": "https://localhost:8080/",
          "height": 35
        },
        "id": "HLMBQryLWtkq",
        "outputId": "1133aa94-4898-4c5d-987b-f0e441875df9"
      },
      "execution_count": 41,
      "outputs": [
        {
          "output_type": "execute_result",
          "data": {
            "text/plain": [
              "'frog'"
            ],
            "application/vnd.google.colaboratory.intrinsic+json": {
              "type": "string"
            }
          },
          "metadata": {},
          "execution_count": 41
        }
      ]
    },
    {
      "cell_type": "code",
      "source": [
        "plot_sample(X_test, y_test,8)"
      ],
      "metadata": {
        "colab": {
          "base_uri": "https://localhost:8080/",
          "height": 280
        },
        "id": "Ye6Bx5UOWwp0",
        "outputId": "0ec9db75-0a9f-446a-fc94-9a2c3bb4f681"
      },
      "execution_count": 42,
      "outputs": [
        {
          "output_type": "display_data",
          "data": {
            "text/plain": [
              "<Figure size 2160x288 with 1 Axes>"
            ],
            "image/png": "[encoded data removed]"
          },
          "metadata": {
            "needs_background": "light"
          }
        }
      ]
    },
    {
      "cell_type": "code",
      "source": [
        "classes[y_classes[8]]"
      ],
      "metadata": {
        "id": "d4o31K72WzTx",
        "outputId": "07c851a6-27da-4022-9a76-deed6905734e",
        "colab": {
          "base_uri": "https://localhost:8080/",
          "height": 35
        }
      },
      "execution_count": 43,
      "outputs": [
        {
          "output_type": "execute_result",
          "data": {
            "text/plain": [
              "'cat'"
            ],
            "application/vnd.google.colaboratory.intrinsic+json": {
              "type": "string"
            }
          },
          "metadata": {},
          "execution_count": 43
        }
      ]
    },
    {
      "cell_type": "code",
      "source": [],
      "metadata": {
        "id": "Sem894AxW12x"
      },
      "execution_count": null,
      "outputs": []
    }
  ]
}